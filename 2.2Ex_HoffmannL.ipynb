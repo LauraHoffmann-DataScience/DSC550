{
 "cells": [
  {
   "cell_type": "markdown",
   "metadata": {},
   "source": [
    "## Course: DSC550\n",
    "## Assignment: 2.2 Exercise\n",
    "## Name: Laura Hoffmann\n",
    "## Date: 3/27/2021\n",
    "\n",
    "#### Import the Libraries"
   ]
  },
  {
   "cell_type": "code",
   "execution_count": 1,
   "metadata": {},
   "outputs": [
    {
     "name": "stderr",
     "output_type": "stream",
     "text": [
      "[nltk_data] Downloading package stopwords to\n",
      "[nltk_data]     C:\\Users\\laura\\AppData\\Roaming\\nltk_data...\n",
      "[nltk_data]   Package stopwords is already up-to-date!\n"
     ]
    }
   ],
   "source": [
    "import pandas as pd\n",
    "\n",
    "import nltk\n",
    "nltk.download('stopwords')\n",
    "from nltk.corpus import stopwords\n",
    "\n",
    "from nltk.stem import PorterStemmer"
   ]
  },
  {
   "cell_type": "markdown",
   "metadata": {},
   "source": [
    "#### Read the controversial-comments file into a data frame"
   ]
  },
  {
   "cell_type": "code",
   "execution_count": 2,
   "metadata": {},
   "outputs": [
    {
     "data": {
      "text/html": [
       "<div>\n",
       "<style scoped>\n",
       "    .dataframe tbody tr th:only-of-type {\n",
       "        vertical-align: middle;\n",
       "    }\n",
       "\n",
       "    .dataframe tbody tr th {\n",
       "        vertical-align: top;\n",
       "    }\n",
       "\n",
       "    .dataframe thead th {\n",
       "        text-align: right;\n",
       "    }\n",
       "</style>\n",
       "<table border=\"1\" class=\"dataframe\">\n",
       "  <thead>\n",
       "    <tr style=\"text-align: right;\">\n",
       "      <th></th>\n",
       "      <th>con</th>\n",
       "      <th>txt</th>\n",
       "    </tr>\n",
       "  </thead>\n",
       "  <tbody>\n",
       "    <tr>\n",
       "      <th>0</th>\n",
       "      <td>0</td>\n",
       "      <td>Well it's great that he did something about th...</td>\n",
       "    </tr>\n",
       "    <tr>\n",
       "      <th>1</th>\n",
       "      <td>0</td>\n",
       "      <td>You are right Mr. President.</td>\n",
       "    </tr>\n",
       "    <tr>\n",
       "      <th>2</th>\n",
       "      <td>0</td>\n",
       "      <td>You have given no input apart from saying I am...</td>\n",
       "    </tr>\n",
       "    <tr>\n",
       "      <th>3</th>\n",
       "      <td>0</td>\n",
       "      <td>I get the frustration but the reason they want...</td>\n",
       "    </tr>\n",
       "    <tr>\n",
       "      <th>4</th>\n",
       "      <td>0</td>\n",
       "      <td>I am far from an expert on TPP and I would ten...</td>\n",
       "    </tr>\n",
       "    <tr>\n",
       "      <th>...</th>\n",
       "      <td>...</td>\n",
       "      <td>...</td>\n",
       "    </tr>\n",
       "    <tr>\n",
       "      <th>949995</th>\n",
       "      <td>0</td>\n",
       "      <td>I genuinely can't understand how anyone can su...</td>\n",
       "    </tr>\n",
       "    <tr>\n",
       "      <th>949996</th>\n",
       "      <td>0</td>\n",
       "      <td>As a reminder, this subreddit [is for civil di...</td>\n",
       "    </tr>\n",
       "    <tr>\n",
       "      <th>949997</th>\n",
       "      <td>0</td>\n",
       "      <td>K. Don't explain why or anything.</td>\n",
       "    </tr>\n",
       "    <tr>\n",
       "      <th>949998</th>\n",
       "      <td>0</td>\n",
       "      <td>[deleted]</td>\n",
       "    </tr>\n",
       "    <tr>\n",
       "      <th>949999</th>\n",
       "      <td>0</td>\n",
       "      <td>Ya, sociopaths are known for celebrating their...</td>\n",
       "    </tr>\n",
       "  </tbody>\n",
       "</table>\n",
       "<p>950000 rows × 2 columns</p>\n",
       "</div>"
      ],
      "text/plain": [
       "        con                                                txt\n",
       "0         0  Well it's great that he did something about th...\n",
       "1         0                       You are right Mr. President.\n",
       "2         0  You have given no input apart from saying I am...\n",
       "3         0  I get the frustration but the reason they want...\n",
       "4         0  I am far from an expert on TPP and I would ten...\n",
       "...     ...                                                ...\n",
       "949995    0  I genuinely can't understand how anyone can su...\n",
       "949996    0  As a reminder, this subreddit [is for civil di...\n",
       "949997    0                  K. Don't explain why or anything.\n",
       "949998    0                                          [deleted]\n",
       "949999    0  Ya, sociopaths are known for celebrating their...\n",
       "\n",
       "[950000 rows x 2 columns]"
      ]
     },
     "execution_count": 2,
     "metadata": {},
     "output_type": "execute_result"
    }
   ],
   "source": [
    "dflines = pd.read_json('controversial-comments.jsonl', lines = True)\n",
    "dflines"
   ]
  },
  {
   "cell_type": "markdown",
   "metadata": {},
   "source": [
    "#### Take a random sample of 50000 rows"
   ]
  },
  {
   "cell_type": "code",
   "execution_count": 3,
   "metadata": {},
   "outputs": [],
   "source": [
    "df = dflines.sample(50000)"
   ]
  },
  {
   "cell_type": "markdown",
   "metadata": {},
   "source": [
    "#### Convert all text to lowercase letters"
   ]
  },
  {
   "cell_type": "code",
   "execution_count": 4,
   "metadata": {},
   "outputs": [
    {
     "data": {
      "text/html": [
       "<div>\n",
       "<style scoped>\n",
       "    .dataframe tbody tr th:only-of-type {\n",
       "        vertical-align: middle;\n",
       "    }\n",
       "\n",
       "    .dataframe tbody tr th {\n",
       "        vertical-align: top;\n",
       "    }\n",
       "\n",
       "    .dataframe thead th {\n",
       "        text-align: right;\n",
       "    }\n",
       "</style>\n",
       "<table border=\"1\" class=\"dataframe\">\n",
       "  <thead>\n",
       "    <tr style=\"text-align: right;\">\n",
       "      <th></th>\n",
       "      <th>con</th>\n",
       "      <th>txt</th>\n",
       "    </tr>\n",
       "  </thead>\n",
       "  <tbody>\n",
       "    <tr>\n",
       "      <th>103154</th>\n",
       "      <td>0</td>\n",
       "      <td>just legal barriers to voting.</td>\n",
       "    </tr>\n",
       "    <tr>\n",
       "      <th>108233</th>\n",
       "      <td>1</td>\n",
       "      <td>looks more like the west is antagonizing and t...</td>\n",
       "    </tr>\n",
       "    <tr>\n",
       "      <th>587418</th>\n",
       "      <td>0</td>\n",
       "      <td>he's the embodiment of all that is wrong with ...</td>\n",
       "    </tr>\n",
       "    <tr>\n",
       "      <th>458556</th>\n",
       "      <td>0</td>\n",
       "      <td>\"it's bullshit that illegal immigrants can't l...</td>\n",
       "    </tr>\n",
       "    <tr>\n",
       "      <th>650739</th>\n",
       "      <td>0</td>\n",
       "      <td>well i think that two things are going to come...</td>\n",
       "    </tr>\n",
       "    <tr>\n",
       "      <th>...</th>\n",
       "      <td>...</td>\n",
       "      <td>...</td>\n",
       "    </tr>\n",
       "    <tr>\n",
       "      <th>936691</th>\n",
       "      <td>0</td>\n",
       "      <td>[deleted]</td>\n",
       "    </tr>\n",
       "    <tr>\n",
       "      <th>566767</th>\n",
       "      <td>0</td>\n",
       "      <td>if it weren't for double standards the left wo...</td>\n",
       "    </tr>\n",
       "    <tr>\n",
       "      <th>420880</th>\n",
       "      <td>0</td>\n",
       "      <td>hillary received more votes than any white man...</td>\n",
       "    </tr>\n",
       "    <tr>\n",
       "      <th>118394</th>\n",
       "      <td>0</td>\n",
       "      <td>... i hope you're being sarcastic. if not, do ...</td>\n",
       "    </tr>\n",
       "    <tr>\n",
       "      <th>856617</th>\n",
       "      <td>0</td>\n",
       "      <td>but infowars and breitbart told me it was a \"d...</td>\n",
       "    </tr>\n",
       "  </tbody>\n",
       "</table>\n",
       "<p>50000 rows × 2 columns</p>\n",
       "</div>"
      ],
      "text/plain": [
       "        con                                                txt\n",
       "103154    0                     just legal barriers to voting.\n",
       "108233    1  looks more like the west is antagonizing and t...\n",
       "587418    0  he's the embodiment of all that is wrong with ...\n",
       "458556    0  \"it's bullshit that illegal immigrants can't l...\n",
       "650739    0  well i think that two things are going to come...\n",
       "...     ...                                                ...\n",
       "936691    0                                          [deleted]\n",
       "566767    0  if it weren't for double standards the left wo...\n",
       "420880    0  hillary received more votes than any white man...\n",
       "118394    0  ... i hope you're being sarcastic. if not, do ...\n",
       "856617    0  but infowars and breitbart told me it was a \"d...\n",
       "\n",
       "[50000 rows x 2 columns]"
      ]
     },
     "execution_count": 4,
     "metadata": {},
     "output_type": "execute_result"
    }
   ],
   "source": [
    "df['txt'] = (df['txt'].str.lower())\n",
    "df"
   ]
  },
  {
   "cell_type": "markdown",
   "metadata": {},
   "source": [
    "#### Remove all punctuation from the text"
   ]
  },
  {
   "cell_type": "code",
   "execution_count": 5,
   "metadata": {},
   "outputs": [
    {
     "data": {
      "text/html": [
       "<div>\n",
       "<style scoped>\n",
       "    .dataframe tbody tr th:only-of-type {\n",
       "        vertical-align: middle;\n",
       "    }\n",
       "\n",
       "    .dataframe tbody tr th {\n",
       "        vertical-align: top;\n",
       "    }\n",
       "\n",
       "    .dataframe thead th {\n",
       "        text-align: right;\n",
       "    }\n",
       "</style>\n",
       "<table border=\"1\" class=\"dataframe\">\n",
       "  <thead>\n",
       "    <tr style=\"text-align: right;\">\n",
       "      <th></th>\n",
       "      <th>con</th>\n",
       "      <th>txt</th>\n",
       "    </tr>\n",
       "  </thead>\n",
       "  <tbody>\n",
       "    <tr>\n",
       "      <th>103154</th>\n",
       "      <td>0</td>\n",
       "      <td>just legal barriers to voting</td>\n",
       "    </tr>\n",
       "    <tr>\n",
       "      <th>108233</th>\n",
       "      <td>1</td>\n",
       "      <td>looks more like the west is antagonizing and t...</td>\n",
       "    </tr>\n",
       "    <tr>\n",
       "      <th>587418</th>\n",
       "      <td>0</td>\n",
       "      <td>hes the embodiment of all that is wrong with t...</td>\n",
       "    </tr>\n",
       "    <tr>\n",
       "      <th>458556</th>\n",
       "      <td>0</td>\n",
       "      <td>its bullshit that illegal immigrants cant lega...</td>\n",
       "    </tr>\n",
       "    <tr>\n",
       "      <th>650739</th>\n",
       "      <td>0</td>\n",
       "      <td>well i think that two things are going to come...</td>\n",
       "    </tr>\n",
       "    <tr>\n",
       "      <th>...</th>\n",
       "      <td>...</td>\n",
       "      <td>...</td>\n",
       "    </tr>\n",
       "    <tr>\n",
       "      <th>936691</th>\n",
       "      <td>0</td>\n",
       "      <td>deleted</td>\n",
       "    </tr>\n",
       "    <tr>\n",
       "      <th>566767</th>\n",
       "      <td>0</td>\n",
       "      <td>if it werent for double standards the left wou...</td>\n",
       "    </tr>\n",
       "    <tr>\n",
       "      <th>420880</th>\n",
       "      <td>0</td>\n",
       "      <td>hillary received more votes than any white man...</td>\n",
       "    </tr>\n",
       "    <tr>\n",
       "      <th>118394</th>\n",
       "      <td>0</td>\n",
       "      <td>i hope youre being sarcastic if not do you kn...</td>\n",
       "    </tr>\n",
       "    <tr>\n",
       "      <th>856617</th>\n",
       "      <td>0</td>\n",
       "      <td>but infowars and breitbart told me it was a de...</td>\n",
       "    </tr>\n",
       "  </tbody>\n",
       "</table>\n",
       "<p>50000 rows × 2 columns</p>\n",
       "</div>"
      ],
      "text/plain": [
       "        con                                                txt\n",
       "103154    0                      just legal barriers to voting\n",
       "108233    1  looks more like the west is antagonizing and t...\n",
       "587418    0  hes the embodiment of all that is wrong with t...\n",
       "458556    0  its bullshit that illegal immigrants cant lega...\n",
       "650739    0  well i think that two things are going to come...\n",
       "...     ...                                                ...\n",
       "936691    0                                            deleted\n",
       "566767    0  if it werent for double standards the left wou...\n",
       "420880    0  hillary received more votes than any white man...\n",
       "118394    0   i hope youre being sarcastic if not do you kn...\n",
       "856617    0  but infowars and breitbart told me it was a de...\n",
       "\n",
       "[50000 rows x 2 columns]"
      ]
     },
     "execution_count": 5,
     "metadata": {},
     "output_type": "execute_result"
    }
   ],
   "source": [
    "df['txt'] = df['txt'].str.replace(r'[^\\w\\s]+', '')\n",
    "df"
   ]
  },
  {
   "cell_type": "markdown",
   "metadata": {},
   "source": [
    "#### Remove stop words"
   ]
  },
  {
   "cell_type": "code",
   "execution_count": 6,
   "metadata": {
    "scrolled": false
   },
   "outputs": [],
   "source": [
    "stop_words = stopwords.words('english')"
   ]
  },
  {
   "cell_type": "code",
   "execution_count": 7,
   "metadata": {},
   "outputs": [
    {
     "data": {
      "text/plain": [
       "103154                            [legal, barriers, voting]\n",
       "108233    [looks, like, west, antagonizing, threatening,...\n",
       "587418     [hes, embodiment, wrong, babyboomer, generation]\n",
       "458556    [bullshit, illegal, immigrants, cant, legally,...\n",
       "650739    [well, think, two, things, going, come, ill, k...\n",
       "                                ...                        \n",
       "936691                                            [deleted]\n",
       "566767    [werent, double, standards, left, would, stand...\n",
       "420880      [hillary, received, votes, white, man, history]\n",
       "118394    [hope, youre, sarcastic, know, word, means, do...\n",
       "856617    [infowars, breitbart, told, deepstate, coup, o...\n",
       "Name: txt, Length: 50000, dtype: object"
      ]
     },
     "execution_count": 7,
     "metadata": {},
     "output_type": "execute_result"
    }
   ],
   "source": [
    "df[\"txt\"] = df[\"txt\"].str.split()\n",
    "df['txt'].apply(lambda x: [item for item in x if item not in stop_words])"
   ]
  },
  {
   "cell_type": "markdown",
   "metadata": {},
   "source": [
    "#### Apply NLTK’s PorterStemmer"
   ]
  },
  {
   "cell_type": "code",
   "execution_count": 8,
   "metadata": {},
   "outputs": [],
   "source": [
    "ps = PorterStemmer()"
   ]
  },
  {
   "cell_type": "code",
   "execution_count": 9,
   "metadata": {},
   "outputs": [],
   "source": [
    "for list in df['txt']:\n",
    "    for w in list:\n",
    "        (ps.stem(w))"
   ]
  }
 ],
 "metadata": {
  "kernelspec": {
   "display_name": "Python 3",
   "language": "python",
   "name": "python3"
  },
  "language_info": {
   "codemirror_mode": {
    "name": "ipython",
    "version": 3
   },
   "file_extension": ".py",
   "mimetype": "text/x-python",
   "name": "python",
   "nbconvert_exporter": "python",
   "pygments_lexer": "ipython3",
   "version": "3.8.3"
  }
 },
 "nbformat": 4,
 "nbformat_minor": 4
}
