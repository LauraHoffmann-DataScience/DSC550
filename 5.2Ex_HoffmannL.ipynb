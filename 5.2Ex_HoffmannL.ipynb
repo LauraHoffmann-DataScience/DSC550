{
 "cells": [
  {
   "cell_type": "markdown",
   "metadata": {},
   "source": [
    "## Course: DSC550\n",
    "## Assignment: 5.2 Exercise\n",
    "## Name: Laura Hoffmann\n",
    "## Date: 4/17/2021\n",
    "\n",
    "#### Import the Libraries"
   ]
  },
  {
   "cell_type": "code",
   "execution_count": 1,
   "metadata": {},
   "outputs": [],
   "source": [
    "import pandas as pd\n",
    "import string\n",
    "import re\n",
    "import matplotlib.pyplot as plt"
   ]
  },
  {
   "cell_type": "code",
   "execution_count": 2,
   "metadata": {},
   "outputs": [],
   "source": [
    "# load the data\n",
    "articles = pd.read_csv('articles1.csv')"
   ]
  },
  {
   "cell_type": "code",
   "execution_count": 3,
   "metadata": {},
   "outputs": [
    {
     "name": "stdout",
     "output_type": "stream",
     "text": [
      "The dimension of the table is: (50000, 10)\n"
     ]
    },
    {
     "data": {
      "text/html": [
       "<div>\n",
       "<style scoped>\n",
       "    .dataframe tbody tr th:only-of-type {\n",
       "        vertical-align: middle;\n",
       "    }\n",
       "\n",
       "    .dataframe tbody tr th {\n",
       "        vertical-align: top;\n",
       "    }\n",
       "\n",
       "    .dataframe thead th {\n",
       "        text-align: right;\n",
       "    }\n",
       "</style>\n",
       "<table border=\"1\" class=\"dataframe\">\n",
       "  <thead>\n",
       "    <tr style=\"text-align: right;\">\n",
       "      <th></th>\n",
       "      <th>Unnamed: 0</th>\n",
       "      <th>id</th>\n",
       "      <th>title</th>\n",
       "      <th>publication</th>\n",
       "      <th>author</th>\n",
       "      <th>date</th>\n",
       "      <th>year</th>\n",
       "      <th>month</th>\n",
       "      <th>url</th>\n",
       "      <th>content</th>\n",
       "    </tr>\n",
       "  </thead>\n",
       "  <tbody>\n",
       "    <tr>\n",
       "      <th>0</th>\n",
       "      <td>0</td>\n",
       "      <td>17283</td>\n",
       "      <td>House Republicans Fret About Winning Their Hea...</td>\n",
       "      <td>New York Times</td>\n",
       "      <td>Carl Hulse</td>\n",
       "      <td>2016-12-31</td>\n",
       "      <td>2016.0</td>\n",
       "      <td>12.0</td>\n",
       "      <td>NaN</td>\n",
       "      <td>WASHINGTON  —   Congressional Republicans have...</td>\n",
       "    </tr>\n",
       "    <tr>\n",
       "      <th>1</th>\n",
       "      <td>1</td>\n",
       "      <td>17284</td>\n",
       "      <td>Rift Between Officers and Residents as Killing...</td>\n",
       "      <td>New York Times</td>\n",
       "      <td>Benjamin Mueller and Al Baker</td>\n",
       "      <td>2017-06-19</td>\n",
       "      <td>2017.0</td>\n",
       "      <td>6.0</td>\n",
       "      <td>NaN</td>\n",
       "      <td>After the bullet shells get counted, the blood...</td>\n",
       "    </tr>\n",
       "    <tr>\n",
       "      <th>2</th>\n",
       "      <td>2</td>\n",
       "      <td>17285</td>\n",
       "      <td>Tyrus Wong, ‘Bambi’ Artist Thwarted by Racial ...</td>\n",
       "      <td>New York Times</td>\n",
       "      <td>Margalit Fox</td>\n",
       "      <td>2017-01-06</td>\n",
       "      <td>2017.0</td>\n",
       "      <td>1.0</td>\n",
       "      <td>NaN</td>\n",
       "      <td>When Walt Disney’s “Bambi” opened in 1942, cri...</td>\n",
       "    </tr>\n",
       "    <tr>\n",
       "      <th>3</th>\n",
       "      <td>3</td>\n",
       "      <td>17286</td>\n",
       "      <td>Among Deaths in 2016, a Heavy Toll in Pop Musi...</td>\n",
       "      <td>New York Times</td>\n",
       "      <td>William McDonald</td>\n",
       "      <td>2017-04-10</td>\n",
       "      <td>2017.0</td>\n",
       "      <td>4.0</td>\n",
       "      <td>NaN</td>\n",
       "      <td>Death may be the great equalizer, but it isn’t...</td>\n",
       "    </tr>\n",
       "    <tr>\n",
       "      <th>4</th>\n",
       "      <td>4</td>\n",
       "      <td>17287</td>\n",
       "      <td>Kim Jong-un Says North Korea Is Preparing to T...</td>\n",
       "      <td>New York Times</td>\n",
       "      <td>Choe Sang-Hun</td>\n",
       "      <td>2017-01-02</td>\n",
       "      <td>2017.0</td>\n",
       "      <td>1.0</td>\n",
       "      <td>NaN</td>\n",
       "      <td>SEOUL, South Korea  —   North Korea’s leader, ...</td>\n",
       "    </tr>\n",
       "  </tbody>\n",
       "</table>\n",
       "</div>"
      ],
      "text/plain": [
       "   Unnamed: 0     id                                              title  \\\n",
       "0           0  17283  House Republicans Fret About Winning Their Hea...   \n",
       "1           1  17284  Rift Between Officers and Residents as Killing...   \n",
       "2           2  17285  Tyrus Wong, ‘Bambi’ Artist Thwarted by Racial ...   \n",
       "3           3  17286  Among Deaths in 2016, a Heavy Toll in Pop Musi...   \n",
       "4           4  17287  Kim Jong-un Says North Korea Is Preparing to T...   \n",
       "\n",
       "      publication                         author        date    year  month  \\\n",
       "0  New York Times                     Carl Hulse  2016-12-31  2016.0   12.0   \n",
       "1  New York Times  Benjamin Mueller and Al Baker  2017-06-19  2017.0    6.0   \n",
       "2  New York Times                   Margalit Fox  2017-01-06  2017.0    1.0   \n",
       "3  New York Times               William McDonald  2017-04-10  2017.0    4.0   \n",
       "4  New York Times                  Choe Sang-Hun  2017-01-02  2017.0    1.0   \n",
       "\n",
       "   url                                            content  \n",
       "0  NaN  WASHINGTON  —   Congressional Republicans have...  \n",
       "1  NaN  After the bullet shells get counted, the blood...  \n",
       "2  NaN  When Walt Disney’s “Bambi” opened in 1942, cri...  \n",
       "3  NaN  Death may be the great equalizer, but it isn’t...  \n",
       "4  NaN  SEOUL, South Korea  —   North Korea’s leader, ...  "
      ]
     },
     "execution_count": 3,
     "metadata": {},
     "output_type": "execute_result"
    }
   ],
   "source": [
    "# find the data shape and display the data\n",
    "print(\"The dimension of the table is:\", articles.shape)\n",
    "# display the data\n",
    "articles.head()"
   ]
  },
  {
   "cell_type": "code",
   "execution_count": 4,
   "metadata": {},
   "outputs": [
    {
     "name": "stdout",
     "output_type": "stream",
     "text": [
      "Describe Data:\n",
      "       Unnamed: 0        id      year     month  url\n",
      "count    50000.00  50000.00  50000.00  50000.00  0.0\n",
      "mean     25694.38  44432.45   2016.27      5.51  NaN\n",
      "std      15350.14  15773.62      0.63      3.33  NaN\n",
      "min          0.00  17283.00   2011.00      1.00  NaN\n",
      "25%      12500.75  31236.75   2016.00      3.00  NaN\n",
      "50%      25004.50  43757.50   2016.00      5.00  NaN\n",
      "75%      38630.25  57479.25   2017.00      8.00  NaN\n",
      "max      53291.00  73469.00   2017.00     12.00  NaN\n",
      "**********************************************************************\n",
      "Summarized Data:\n",
      "                                                    title publication  \\\n",
      "count                                               50000       50000   \n",
      "unique                                              49920           5   \n",
      "top     The 10 most important things in the world righ...   Breitbart   \n",
      "freq                                                    7       23781   \n",
      "\n",
      "                author        date        content  \n",
      "count            43694       50000          50000  \n",
      "unique            3603         983          49888  \n",
      "top     Breitbart News  2016-08-22  advertisement  \n",
      "freq              1559         221             42  \n"
     ]
    }
   ],
   "source": [
    "# find what types of variables are in the data\n",
    "print(\"Describe Data:\")\n",
    "print(round(articles.describe(),2))\n",
    "print(\"*\"*70)\n",
    "print(\"Summarized Data:\")\n",
    "print(articles.describe(include=['O']))"
   ]
  },
  {
   "cell_type": "code",
   "execution_count": 5,
   "metadata": {},
   "outputs": [
    {
     "data": {
      "text/plain": [
       "50000"
      ]
     },
     "execution_count": 5,
     "metadata": {},
     "output_type": "execute_result"
    }
   ],
   "source": [
    "# display the length of the data\n",
    "len(articles)"
   ]
  },
  {
   "cell_type": "code",
   "execution_count": 6,
   "metadata": {},
   "outputs": [
    {
     "data": {
      "text/plain": [
       "array(['New York Times', 'Breitbart', 'CNN', 'Business Insider',\n",
       "       'Atlantic'], dtype=object)"
      ]
     },
     "execution_count": 6,
     "metadata": {},
     "output_type": "execute_result"
    }
   ],
   "source": [
    "# display the publishers (unique values in the publication column)\n",
    "articles.publication.unique()"
   ]
  },
  {
   "cell_type": "code",
   "execution_count": 7,
   "metadata": {},
   "outputs": [
    {
     "data": {
      "text/plain": [
       "2016.0    28451\n",
       "2017.0    17908\n",
       "2015.0     3326\n",
       "2013.0      212\n",
       "2014.0       76\n",
       "2012.0       26\n",
       "2011.0        1\n",
       "Name: year, dtype: int64"
      ]
     },
     "execution_count": 7,
     "metadata": {},
     "output_type": "execute_result"
    }
   ],
   "source": [
    "# display the number of articles from each year\n",
    "articles['year'].value_counts()"
   ]
  },
  {
   "cell_type": "code",
   "execution_count": 8,
   "metadata": {},
   "outputs": [
    {
     "data": {
      "image/png": "[encoded data removed]",
      "text/plain": [
       "<Figure size 864x720 with 1 Axes>"
      ]
     },
     "metadata": {
      "needs_background": "light"
     },
     "output_type": "display_data"
    }
   ],
   "source": [
    "# display bar charts to show the number of publications by each publisher\n",
    "ax = articles['publication'].value_counts().sort_index().plot(kind='bar', fontsize=14, figsize=(12,10))\n",
    "ax.set_title('Article Publications\\n', fontsize=20)\n",
    "ax.set_xlabel('Publisher', fontsize=18)\n",
    "ax.set_ylabel('Count', fontsize=18)\n",
    "plt.xticks(rotation = 45)\n",
    "plt.show()"
   ]
  },
  {
   "cell_type": "code",
   "execution_count": 9,
   "metadata": {},
   "outputs": [
    {
     "data": {
      "image/png": "[encoded data removed]",
      "text/plain": [
       "<Figure size 864x720 with 1 Axes>"
      ]
     },
     "metadata": {
      "needs_background": "light"
     },
     "output_type": "display_data"
    }
   ],
   "source": [
    "# display bar charts to show the number of publications by each publisher sorted by count\n",
    "ax = articles['publication'].value_counts().plot(kind='bar', fontsize=14, figsize=(12,10))\n",
    "ax.set_title('Article Count - Most to Least\\n', fontsize=20)\n",
    "ax.set_xlabel('Publisher', fontsize=18)\n",
    "ax.set_ylabel('Count', fontsize=18)\n",
    "plt.xticks(rotation=45)\n",
    "plt.show()"
   ]
  },
  {
   "cell_type": "code",
   "execution_count": 10,
   "metadata": {},
   "outputs": [
    {
     "data": {
      "text/plain": [
       "0    washington congressional republicans have a ne...\n",
       "1    after the bullet shells get counted the blood ...\n",
       "2    when walt disneys bambi opened in 1942 critics...\n",
       "3    death may be the great equalizer but it isnt n...\n",
       "4    seoul south korea north koreas leader kim said...\n",
       "Name: tokenized, dtype: object"
      ]
     },
     "execution_count": 10,
     "metadata": {},
     "output_type": "execute_result"
    }
   ],
   "source": [
    "# clean the text to be all lowercase and no punctuation\n",
    "def clean_text(article):\n",
    "    clean1 = re.sub(r'['+string.punctuation + '’—”'+']', \"\", article.lower())\n",
    "    return re.sub(r'\\W+', ' ', clean1)\n",
    "\n",
    "# apply the clean_text function to the text column \n",
    "articles['tokenized'] = articles['content'].map(lambda x: clean_text(x))\n",
    "# display the text column\n",
    "articles['tokenized'].head()"
   ]
  },
  {
   "cell_type": "code",
   "execution_count": 11,
   "metadata": {},
   "outputs": [
    {
     "name": "stdout",
     "output_type": "stream",
     "text": [
      "Mean: 636.0\n",
      "Min: 0\n",
      "Max: 24736\n"
     ]
    }
   ],
   "source": [
    "# find the mean, minimum and maximum article lengths\n",
    "articles['num_wds'] = articles['tokenized'].apply(lambda x: len(x.split()))\n",
    "print(\"Mean:\",round(articles['num_wds'].mean(),0))\n",
    "print(\"Min:\",round(articles['num_wds'].min(),0))\n",
    "print(\"Max:\",round(articles['num_wds'].max(),0))"
   ]
  },
  {
   "cell_type": "code",
   "execution_count": 12,
   "metadata": {},
   "outputs": [
    {
     "name": "stdout",
     "output_type": "stream",
     "text": [
      "New Mean: 637.0886752778612\n",
      "New Min: 1\n"
     ]
    }
   ],
   "source": [
    "# remove articles with no words\n",
    "articles = articles[articles['num_wds']>0]\n",
    "print(\"New Mean:\",articles['num_wds'].mean())\n",
    "print(\"New Min:\",articles['num_wds'].min())"
   ]
  },
  {
   "cell_type": "code",
   "execution_count": 13,
   "metadata": {},
   "outputs": [
    {
     "data": {
      "image/png": "[encoded data removed]",
      "text/plain": [
       "<Figure size 864x720 with 1 Axes>"
      ]
     },
     "metadata": {
      "needs_background": "light"
     },
     "output_type": "display_data"
    }
   ],
   "source": [
    "# check for outliers by showing a bar graph for number of words\n",
    "ax=articles['num_wds'].plot(kind='hist', bins=50, fontsize=14, figsize=(12,10))\n",
    "ax.set_title('Article Length in Words\\n', fontsize=20)\n",
    "ax.set_ylabel('Frequency', fontsize=18)\n",
    "ax.set_xlabel('Number of Words', fontsize=18)\n",
    "plt.show()"
   ]
  },
  {
   "cell_type": "markdown",
   "metadata": {},
   "source": [
    "It's difficult to see on this small display if there are outliers but I know there must be because the maximum length for an article is 24736 words and I can't even see a bar for that number. I can barely see a bar past 5000 words. So I decided to make a box plot, which once again isn't too clear but definitely shows a few outliers near 15000, 17000, 20000 and and 25000. "
   ]
  },
  {
   "cell_type": "code",
   "execution_count": 18,
   "metadata": {},
   "outputs": [
    {
     "data": {
      "text/plain": [
       "Text(0.5, 0, 'Number of Words')"
      ]
     },
     "execution_count": 18,
     "metadata": {},
     "output_type": "execute_result"
    },
    {
     "data": {
      "image/png": "[encoded data removed]",
      "text/plain": [
       "<Figure size 432x288 with 1 Axes>"
      ]
     },
     "metadata": {
      "needs_background": "light"
     },
     "output_type": "display_data"
    }
   ],
   "source": [
    "import seaborn as sns\n",
    "sns.boxplot(x=articles['num_wds'])\n",
    "plt.xlabel(\"Number of Words\")"
   ]
  }
 ],
 "metadata": {
  "kernelspec": {
   "display_name": "Python 3",
   "language": "python",
   "name": "python3"
  },
  "language_info": {
   "codemirror_mode": {
    "name": "ipython",
    "version": 3
   },
   "file_extension": ".py",
   "mimetype": "text/x-python",
   "name": "python",
   "nbconvert_exporter": "python",
   "pygments_lexer": "ipython3",
   "version": "3.8.3"
  }
 },
 "nbformat": 4,
 "nbformat_minor": 4
}
