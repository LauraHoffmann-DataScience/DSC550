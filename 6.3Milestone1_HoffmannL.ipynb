{
 "cells": [
  {
   "cell_type": "markdown",
   "metadata": {},
   "source": [
    "## Course: DSC550\n",
    "## Assignment: 6.3 Project Milestone 1\n",
    "## Name: Laura Hoffmann\n",
    "## Date: 4/24/2021\n",
    "\n",
    "#### Import the Libraries"
   ]
  },
  {
   "cell_type": "code",
   "execution_count": 1,
   "metadata": {},
   "outputs": [],
   "source": [
    "import pandas as pd\n",
    "\n",
    "import matplotlib.pyplot as plt"
   ]
  },
  {
   "cell_type": "code",
   "execution_count": 2,
   "metadata": {},
   "outputs": [],
   "source": [
    "data = pd.read_csv('strokedata.csv')"
   ]
  },
  {
   "cell_type": "code",
   "execution_count": 3,
   "metadata": {},
   "outputs": [
    {
     "data": {
      "text/html": [
       "<div>\n",
       "<style scoped>\n",
       "    .dataframe tbody tr th:only-of-type {\n",
       "        vertical-align: middle;\n",
       "    }\n",
       "\n",
       "    .dataframe tbody tr th {\n",
       "        vertical-align: top;\n",
       "    }\n",
       "\n",
       "    .dataframe thead th {\n",
       "        text-align: right;\n",
       "    }\n",
       "</style>\n",
       "<table border=\"1\" class=\"dataframe\">\n",
       "  <thead>\n",
       "    <tr style=\"text-align: right;\">\n",
       "      <th></th>\n",
       "      <th>id</th>\n",
       "      <th>gender</th>\n",
       "      <th>age</th>\n",
       "      <th>hypertension</th>\n",
       "      <th>heart_disease</th>\n",
       "      <th>ever_married</th>\n",
       "      <th>work_type</th>\n",
       "      <th>Residence_type</th>\n",
       "      <th>avg_glucose_level</th>\n",
       "      <th>bmi</th>\n",
       "      <th>smoking_status</th>\n",
       "      <th>stroke</th>\n",
       "    </tr>\n",
       "  </thead>\n",
       "  <tbody>\n",
       "    <tr>\n",
       "      <th>0</th>\n",
       "      <td>9046</td>\n",
       "      <td>Male</td>\n",
       "      <td>67.0</td>\n",
       "      <td>0</td>\n",
       "      <td>1</td>\n",
       "      <td>Yes</td>\n",
       "      <td>Private</td>\n",
       "      <td>Urban</td>\n",
       "      <td>228.69</td>\n",
       "      <td>36.6</td>\n",
       "      <td>formerly smoked</td>\n",
       "      <td>1</td>\n",
       "    </tr>\n",
       "    <tr>\n",
       "      <th>1</th>\n",
       "      <td>51676</td>\n",
       "      <td>Female</td>\n",
       "      <td>61.0</td>\n",
       "      <td>0</td>\n",
       "      <td>0</td>\n",
       "      <td>Yes</td>\n",
       "      <td>Self-employed</td>\n",
       "      <td>Rural</td>\n",
       "      <td>202.21</td>\n",
       "      <td>NaN</td>\n",
       "      <td>never smoked</td>\n",
       "      <td>1</td>\n",
       "    </tr>\n",
       "  </tbody>\n",
       "</table>\n",
       "</div>"
      ],
      "text/plain": [
       "      id  gender   age  hypertension  heart_disease ever_married  \\\n",
       "0   9046    Male  67.0             0              1          Yes   \n",
       "1  51676  Female  61.0             0              0          Yes   \n",
       "\n",
       "       work_type Residence_type  avg_glucose_level   bmi   smoking_status  \\\n",
       "0        Private          Urban             228.69  36.6  formerly smoked   \n",
       "1  Self-employed          Rural             202.21   NaN     never smoked   \n",
       "\n",
       "   stroke  \n",
       "0       1  \n",
       "1       1  "
      ]
     },
     "execution_count": 3,
     "metadata": {},
     "output_type": "execute_result"
    }
   ],
   "source": [
    "data.head(2)"
   ]
  },
  {
   "cell_type": "code",
   "execution_count": 4,
   "metadata": {},
   "outputs": [],
   "source": [
    "# Rename columns to get a cleaner feel on the data set\n",
    "data = data.rename(columns = {'id': 'ID', 'gender': 'Gender', 'age': 'Age', 'hypertension': 'Hypertension',\n",
    "                             'heart_disease': 'Heart_Disease', 'ever_married': 'Married', 'work_type': 'Work',\n",
    "                             'Residence_type': 'Residence', 'avg_glucose_level': 'Glucose', 'bmi': 'BMI',\n",
    "                             'smoking_status': 'Smoking_Status', 'stroke': 'Stroke'}, inplace = False)\n",
    "\n",
    "# Replace stroke 1s and 2s with Yes and no\n",
    "data = data.replace({'Stroke': {1: 'Yes', 0: 'No'}})"
   ]
  },
  {
   "cell_type": "code",
   "execution_count": 5,
   "metadata": {},
   "outputs": [
    {
     "name": "stdout",
     "output_type": "stream",
     "text": [
      "Dimensions: (5110, 12)\n"
     ]
    },
    {
     "data": {
      "text/html": [
       "<div>\n",
       "<style scoped>\n",
       "    .dataframe tbody tr th:only-of-type {\n",
       "        vertical-align: middle;\n",
       "    }\n",
       "\n",
       "    .dataframe tbody tr th {\n",
       "        vertical-align: top;\n",
       "    }\n",
       "\n",
       "    .dataframe thead th {\n",
       "        text-align: right;\n",
       "    }\n",
       "</style>\n",
       "<table border=\"1\" class=\"dataframe\">\n",
       "  <thead>\n",
       "    <tr style=\"text-align: right;\">\n",
       "      <th></th>\n",
       "      <th>ID</th>\n",
       "      <th>Gender</th>\n",
       "      <th>Age</th>\n",
       "      <th>Hypertension</th>\n",
       "      <th>Heart_Disease</th>\n",
       "      <th>Married</th>\n",
       "      <th>Work</th>\n",
       "      <th>Residence</th>\n",
       "      <th>Glucose</th>\n",
       "      <th>BMI</th>\n",
       "      <th>Smoking_Status</th>\n",
       "      <th>Stroke</th>\n",
       "    </tr>\n",
       "  </thead>\n",
       "  <tbody>\n",
       "    <tr>\n",
       "      <th>0</th>\n",
       "      <td>9046</td>\n",
       "      <td>Male</td>\n",
       "      <td>67.0</td>\n",
       "      <td>0</td>\n",
       "      <td>1</td>\n",
       "      <td>Yes</td>\n",
       "      <td>Private</td>\n",
       "      <td>Urban</td>\n",
       "      <td>228.69</td>\n",
       "      <td>36.6</td>\n",
       "      <td>formerly smoked</td>\n",
       "      <td>Yes</td>\n",
       "    </tr>\n",
       "    <tr>\n",
       "      <th>1</th>\n",
       "      <td>51676</td>\n",
       "      <td>Female</td>\n",
       "      <td>61.0</td>\n",
       "      <td>0</td>\n",
       "      <td>0</td>\n",
       "      <td>Yes</td>\n",
       "      <td>Self-employed</td>\n",
       "      <td>Rural</td>\n",
       "      <td>202.21</td>\n",
       "      <td>NaN</td>\n",
       "      <td>never smoked</td>\n",
       "      <td>Yes</td>\n",
       "    </tr>\n",
       "    <tr>\n",
       "      <th>2</th>\n",
       "      <td>31112</td>\n",
       "      <td>Male</td>\n",
       "      <td>80.0</td>\n",
       "      <td>0</td>\n",
       "      <td>1</td>\n",
       "      <td>Yes</td>\n",
       "      <td>Private</td>\n",
       "      <td>Rural</td>\n",
       "      <td>105.92</td>\n",
       "      <td>32.5</td>\n",
       "      <td>never smoked</td>\n",
       "      <td>Yes</td>\n",
       "    </tr>\n",
       "    <tr>\n",
       "      <th>3</th>\n",
       "      <td>60182</td>\n",
       "      <td>Female</td>\n",
       "      <td>49.0</td>\n",
       "      <td>0</td>\n",
       "      <td>0</td>\n",
       "      <td>Yes</td>\n",
       "      <td>Private</td>\n",
       "      <td>Urban</td>\n",
       "      <td>171.23</td>\n",
       "      <td>34.4</td>\n",
       "      <td>smokes</td>\n",
       "      <td>Yes</td>\n",
       "    </tr>\n",
       "    <tr>\n",
       "      <th>4</th>\n",
       "      <td>1665</td>\n",
       "      <td>Female</td>\n",
       "      <td>79.0</td>\n",
       "      <td>1</td>\n",
       "      <td>0</td>\n",
       "      <td>Yes</td>\n",
       "      <td>Self-employed</td>\n",
       "      <td>Rural</td>\n",
       "      <td>174.12</td>\n",
       "      <td>24.0</td>\n",
       "      <td>never smoked</td>\n",
       "      <td>Yes</td>\n",
       "    </tr>\n",
       "  </tbody>\n",
       "</table>\n",
       "</div>"
      ],
      "text/plain": [
       "      ID  Gender   Age  Hypertension  Heart_Disease Married           Work  \\\n",
       "0   9046    Male  67.0             0              1     Yes        Private   \n",
       "1  51676  Female  61.0             0              0     Yes  Self-employed   \n",
       "2  31112    Male  80.0             0              1     Yes        Private   \n",
       "3  60182  Female  49.0             0              0     Yes        Private   \n",
       "4   1665  Female  79.0             1              0     Yes  Self-employed   \n",
       "\n",
       "  Residence  Glucose   BMI   Smoking_Status Stroke  \n",
       "0     Urban   228.69  36.6  formerly smoked    Yes  \n",
       "1     Rural   202.21   NaN     never smoked    Yes  \n",
       "2     Rural   105.92  32.5     never smoked    Yes  \n",
       "3     Urban   171.23  34.4           smokes    Yes  \n",
       "4     Rural   174.12  24.0     never smoked    Yes  "
      ]
     },
     "execution_count": 5,
     "metadata": {},
     "output_type": "execute_result"
    }
   ],
   "source": [
    "# Print the dimensions of the df\n",
    "print('Dimensions:',data.shape)\n",
    "# Print the first few rows of the df\n",
    "data.head()"
   ]
  },
  {
   "cell_type": "code",
   "execution_count": 6,
   "metadata": {},
   "outputs": [
    {
     "name": "stdout",
     "output_type": "stream",
     "text": [
      "Describe Data:\n",
      "             ID      Age  Hypertension  Heart_Disease  Glucose      BMI\n",
      "count   5110.00  5110.00        5110.0        5110.00  5110.00  4909.00\n",
      "mean   36517.83    43.23           0.1           0.05   106.15    28.89\n",
      "std    21161.72    22.61           0.3           0.23    45.28     7.85\n",
      "min       67.00     0.08           0.0           0.00    55.12    10.30\n",
      "25%    17741.25    25.00           0.0           0.00    77.24    23.50\n",
      "50%    36932.00    45.00           0.0           0.00    91.88    28.10\n",
      "75%    54682.00    61.00           0.0           0.00   114.09    33.10\n",
      "max    72940.00    82.00           1.0           1.00   271.74    97.60\n",
      "**********************************************************************\n",
      "Summarized Data:\n",
      "        Gender Married     Work Residence Smoking_Status Stroke\n",
      "count     5110    5110     5110      5110           5110   5110\n",
      "unique       3       2        5         2              4      2\n",
      "top     Female     Yes  Private     Urban   never smoked     No\n",
      "freq      2994    3353     2925      2596           1892   4861\n"
     ]
    }
   ],
   "source": [
    "# Find what types of variables are in the df\n",
    "# Numerical data\n",
    "print(\"Describe Data:\")\n",
    "print(round(data.describe(),2))\n",
    "print(\"*\"*70)\n",
    "# Text data\n",
    "print(\"Summarized Data:\")\n",
    "print(data.describe(include=['O']))"
   ]
  },
  {
   "cell_type": "code",
   "execution_count": 9,
   "metadata": {},
   "outputs": [
    {
     "data": {
      "image/png": "[encoded data removed]",
      "text/plain": [
       "<Figure size 1440x360 with 2 Axes>"
      ]
     },
     "metadata": {
      "needs_background": "light"
     },
     "output_type": "display_data"
    }
   ],
   "source": [
    "# Set up the figure size\n",
    "plt.rcParams['figure.figsize'] = (20, 5)\n",
    "\n",
    "# Make subplots\n",
    "fig, axes = plt.subplots(nrows = 1, ncols = 2)\n",
    "\n",
    "# X axes, colors and bins\n",
    "x_axes = ['Age', 'Glucose']\n",
    "colors = ['powderblue', 'tomato']\n",
    "bins = [40, 10]\n",
    "\n",
    "# Make the graphs\n",
    "axes = axes.ravel()\n",
    "for idx, ax in enumerate(axes):\n",
    "    ax.hist(data[x_axes[idx]].dropna(), bins=bins[idx], color=colors[idx])\n",
    "    ax.set_xlabel(x_axes[idx], fontsize=20)\n",
    "    ax.set_ylabel('Counts', fontsize=20)\n",
    "    ax.tick_params(axis='both', labelsize=15)\n",
    "plt.show()"
   ]
  },
  {
   "cell_type": "code",
   "execution_count": 21,
   "metadata": {},
   "outputs": [
    {
     "data": {
      "image/png": "[encoded data removed]",
      "text/plain": [
       "<Figure size 504x360 with 1 Axes>"
      ]
     },
     "metadata": {
      "needs_background": "light"
     },
     "output_type": "display_data"
    }
   ],
   "source": [
    "genderstroke = data.groupby(['Stroke']).Gender.value_counts().unstack()\n",
    "\n",
    "# plot\n",
    "genderstroke.plot.bar(figsize=(7, 5))\n",
    "plt.legend(title='Stroke', loc='upper right')\n",
    "plt.xlabel('Stroke', fontsize=15)\n",
    "plt.ylabel('Count', fontsize=15)\n",
    "plt.show()"
   ]
  },
  {
   "cell_type": "code",
   "execution_count": 28,
   "metadata": {},
   "outputs": [
    {
     "name": "stderr",
     "output_type": "stream",
     "text": [
      "No handles with labels found to put in legend.\n",
      "No handles with labels found to put in legend.\n",
      "No handles with labels found to put in legend.\n"
     ]
    },
    {
     "data": {
      "image/png": "[encoded data removed]",
      "text/plain": [
       "<Figure size 1440x1080 with 4 Axes>"
      ]
     },
     "metadata": {
      "needs_background": "light"
     },
     "output_type": "display_data"
    }
   ],
   "source": [
    "marriedstroke = data.groupby(['Stroke']).Married.value_counts().unstack()\n",
    "workstroke = data.groupby(['Stroke']).Work.value_counts().unstack()\n",
    "residencestroke = data.groupby(['Stroke']).Residence.value_counts().unstack()\n",
    "smokestroke = data.groupby(['Stroke']).Smoking_Status.value_counts().unstack()\n",
    "\n",
    "plt.rcParams['figure.figsize'] = (20, 15)\n",
    "fig, axes = plt.subplots(nrows = 2, ncols = 2)\n",
    "\n",
    "marriedstroke.plot.bar(ax=axes[0,0])\n",
    "plt.legend(title='Married', loc='upper right')\n",
    "plt.xlabel('Stroke', fontsize=15)\n",
    "plt.ylabel('Counts', fontsize=15)\n",
    "\n",
    "workstroke.plot.bar(ax=axes[0,1])\n",
    "plt.legend(title='Work', loc='upper right')\n",
    "plt.xlabel('Stroke', fontsize=15)\n",
    "plt.ylabel('Counts', fontsize=15)\n",
    "\n",
    "residencestroke.plot.bar(ax=axes[1,0])\n",
    "plt.legend(title='Residence', loc='upper right')\n",
    "plt.xlabel('Stroke', fontsize=15)\n",
    "plt.ylabel('Counts', fontsize=15)\n",
    "\n",
    "smokestroke.plot.bar(ax=axes[1,1])\n",
    "plt.legend(title='Smoking Status', loc='upper right')\n",
    "plt.xlabel('Stroke', fontsize=15)\n",
    "plt.ylabel('Counts', fontsize=15)\n",
    "\n",
    "plt.show()"
   ]
  },
  {
   "cell_type": "code",
   "execution_count": null,
   "metadata": {},
   "outputs": [],
   "source": []
  }
 ],
 "metadata": {
  "kernelspec": {
   "display_name": "Python 3",
   "language": "python",
   "name": "python3"
  },
  "language_info": {
   "codemirror_mode": {
    "name": "ipython",
    "version": 3
   },
   "file_extension": ".py",
   "mimetype": "text/x-python",
   "name": "python",
   "nbconvert_exporter": "python",
   "pygments_lexer": "ipython3",
   "version": "3.8.3"
  }
 },
 "nbformat": 4,
 "nbformat_minor": 4
}
